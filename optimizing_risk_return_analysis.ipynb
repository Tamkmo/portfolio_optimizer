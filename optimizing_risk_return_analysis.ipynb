{
 "cells": [
  {
   "cell_type": "markdown",
   "metadata": {},
   "source": [
    "# Optimizing Portfolio Risk and Return\n",
    "\n",
    "In this Project, you’ll create financial analysis tools by using a single Jupyter notebook:\n",
    "\n",
    "Part 1: Determine the level of risk an investor is willing to take on, time frame of investment, type of profit (dividend income, the potential for capital growth, or a balanced approach). The members will be able to use this tool to visualize their savings in 3, 5, 7 years.\n",
    "This platform aims to offer clients a one-stop online investment solution for their portfolios that’s both inexpensive and high quality. To keep the costs low, the firm uses algorithms to build each client's portfolio. The algorithms choose from various investment styles and options.\n",
    "You’ll need to determine the fund with the most investment potential based on key risk-management metrics: the daily returns, standard deviations, Sharpe ratios, and betas.\n",
    "\n",
    "Part 2: Optimizer of financial planner for retirement. This tool will forecast the performance of retirement portfolio in 30 years. To do this, the tool will make an Alpaca API call via the Alpaca SDK to get historical price data for use in Monte Carlo simulations.\n",
    "\n",
    "\n",
    "\n",
    "## Instructions\n",
    "\n",
    "### Import the Data\n",
    "\n",
    "### Analyze the Performance\n",
    "\n",
    "### Analyze the Volatility\n",
    "\n",
    "### Analyze the Risk\n",
    "\n",
    "### Analyze the Risk-Return Profile\n",
    "\n",
    "#### Diversify the Portfolio\n",
    "\n",
    "### Make an API call via the Alpaca SDK\n",
    "\n",
    "### Plot the probability distribution of the Monte Carlo simulation\n",
    "\n",
    "### Generate the summary statistics for the Monte Carlo simulation"
   ]
  },
  {
   "cell_type": "code",
   "execution_count": 1,
   "metadata": {},
   "outputs": [],
   "source": [
    "import pandas as pd"
   ]
  },
  {
   "cell_type": "code",
   "execution_count": 1,
   "metadata": {},
   "outputs": [],
   "source": [
    "# this is a new update"
   ]
  },
  {
   "cell_type": "code",
   "execution_count": null,
   "metadata": {},
   "outputs": [],
   "source": [
    "# fourth update"
   ]
  }
 ],
 "metadata": {
  "file_extension": ".py",
  "kernelspec": {
   "display_name": "Python 3 (ipykernel)",
   "language": "python",
   "name": "python3"
  },
  "language_info": {
   "codemirror_mode": {
    "name": "ipython",
    "version": 3
   },
   "file_extension": ".py",
   "mimetype": "text/x-python",
   "name": "python",
   "nbconvert_exporter": "python",
   "pygments_lexer": "ipython3",
   "version": "3.7.11"
  },
  "mimetype": "text/x-python",
  "name": "python",
  "npconvert_exporter": "python",
  "pygments_lexer": "ipython3",
  "version": 3
 },
 "nbformat": 4,
 "nbformat_minor": 4
}
